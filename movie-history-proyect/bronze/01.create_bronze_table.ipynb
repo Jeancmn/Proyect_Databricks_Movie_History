{
 "cells": [
  {
   "cell_type": "code",
   "execution_count": 0,
   "metadata": {
    "application/vnd.databricks.v1+cell": {
     "cellMetadata": {
      "byteLimit": 2048000,
      "rowLimit": 10000
     },
     "inputWidgets": {},
     "nuid": "edd0c624-c2a8-4dc4-8790-c69626b6992a",
     "showTitle": false,
     "tableResultSettingsMap": {},
     "title": ""
    }
   },
   "outputs": [],
   "source": [
    "CREATE SCHEMA IF NOT EXISTS movie_bronze;"
   ]
  },
  {
   "cell_type": "markdown",
   "metadata": {
    "application/vnd.databricks.v1+cell": {
     "cellMetadata": {},
     "inputWidgets": {},
     "nuid": "835feb7a-e219-4c8c-98ac-5967cf5d5ef9",
     "showTitle": false,
     "tableResultSettingsMap": {},
     "title": ""
    }
   },
   "source": [
    "### Crear tablas para archivos csv\n"
   ]
  },
  {
   "cell_type": "markdown",
   "metadata": {
    "application/vnd.databricks.v1+cell": {
     "cellMetadata": {},
     "inputWidgets": {},
     "nuid": "3c6f602b-1da6-4eb5-beb0-d8b00b213735",
     "showTitle": false,
     "tableResultSettingsMap": {},
     "title": ""
    }
   },
   "source": [
    "#### Crear la tabla \"movies\""
   ]
  },
  {
   "cell_type": "code",
   "execution_count": 0,
   "metadata": {
    "application/vnd.databricks.v1+cell": {
     "cellMetadata": {
      "byteLimit": 2048000,
      "rowLimit": 10000
     },
     "inputWidgets": {},
     "nuid": "3ac9750b-13cf-432b-9125-a2382ae99a66",
     "showTitle": false,
     "tableResultSettingsMap": {},
     "title": ""
    }
   },
   "outputs": [],
   "source": [
    "CREATE TABLE IF NOT EXISTS movie_bronze.movies(\n",
    "  movie_id INT,\n",
    "  title STRING,\n",
    "  budget DOUBLE,\n",
    "  homePage STRING,\n",
    "  overview STRING,\n",
    "  popularity DOUBLE,\n",
    "  yearReleaseDate INT,\n",
    "  releaseDate DATE,\n",
    "  revenue DOUBLE,\n",
    "  durationTime INT,\n",
    "  movieStatus STRING,\n",
    "  tagline STRING,\n",
    "  voteAverage DOUBLE,\n",
    "  voteCount INT\n",
    ")\n",
    "USING CSV\n",
    "OPTIONS(path \"/mnt/moviehistory0001/bronze/movie.csv\", header True)"
   ]
  },
  {
   "cell_type": "code",
   "execution_count": 0,
   "metadata": {
    "application/vnd.databricks.v1+cell": {
     "cellMetadata": {
      "byteLimit": 2048000,
      "rowLimit": 10000
     },
     "inputWidgets": {},
     "nuid": "97ac272f-d3ed-4418-8da9-d039cb09d509",
     "showTitle": false,
     "tableResultSettingsMap": {},
     "title": ""
    }
   },
   "outputs": [],
   "source": [
    "SELECT * FROM movie_bronze.movies;"
   ]
  },
  {
   "cell_type": "markdown",
   "metadata": {
    "application/vnd.databricks.v1+cell": {
     "cellMetadata": {},
     "inputWidgets": {},
     "nuid": "ce062a6f-36a4-4851-8352-be68fc5ee389",
     "showTitle": false,
     "tableResultSettingsMap": {},
     "title": ""
    }
   },
   "source": [
    "#### Crear la tabla para \"language\""
   ]
  },
  {
   "cell_type": "code",
   "execution_count": 0,
   "metadata": {
    "application/vnd.databricks.v1+cell": {
     "cellMetadata": {
      "byteLimit": 2048000,
      "rowLimit": 10000
     },
     "inputWidgets": {},
     "nuid": "7f3481a7-e8b9-41ad-b677-e1fe5aa4d34f",
     "showTitle": false,
     "tableResultSettingsMap": {},
     "title": ""
    }
   },
   "outputs": [],
   "source": [
    "DROP TABLE IF EXISTS movie_bronze.languages;\n",
    "CREATE TABLE IF NOT EXISTS movie_bronze.languages(\n",
    "  languageId INT,\n",
    "  languageCode STRING,\n",
    "  languageName STRING\n",
    ")\n",
    "USING CSV\n",
    "OPTIONS(path \"/mnt/moviehistory0001/bronze/language.csv\", header True);"
   ]
  },
  {
   "cell_type": "code",
   "execution_count": 0,
   "metadata": {
    "application/vnd.databricks.v1+cell": {
     "cellMetadata": {
      "byteLimit": 2048000,
      "rowLimit": 10000
     },
     "inputWidgets": {},
     "nuid": "1d2dd4f4-eba6-4de4-8490-1051a3be0f1f",
     "showTitle": false,
     "tableResultSettingsMap": {},
     "title": ""
    }
   },
   "outputs": [],
   "source": [
    "SELECT * FROM movie_bronze.languages;"
   ]
  },
  {
   "cell_type": "markdown",
   "metadata": {
    "application/vnd.databricks.v1+cell": {
     "cellMetadata": {},
     "inputWidgets": {},
     "nuid": "563d123f-f340-4f2d-809a-0da5a596167a",
     "showTitle": false,
     "tableResultSettingsMap": {},
     "title": ""
    }
   },
   "source": [
    "#### Crear la tabla para \"genre\""
   ]
  },
  {
   "cell_type": "code",
   "execution_count": 0,
   "metadata": {
    "application/vnd.databricks.v1+cell": {
     "cellMetadata": {
      "byteLimit": 2048000,
      "rowLimit": 10000
     },
     "inputWidgets": {},
     "nuid": "1fe421e4-cc83-46d8-9045-f4d07a4fef99",
     "showTitle": false,
     "tableResultSettingsMap": {},
     "title": ""
    }
   },
   "outputs": [],
   "source": [
    "DROP TABLE IF EXISTS movie_bronze.genres;\n",
    "CREATE TABLE IF NOT EXISTS movie_bronze.genres(\n",
    "  genreId INT,\n",
    "  genreName STRING\n",
    ")\n",
    "USING CSV\n",
    "OPTIONS(path \"/mnt/moviehistory0001/bronze/genre.csv\", header True)"
   ]
  },
  {
   "cell_type": "code",
   "execution_count": 0,
   "metadata": {
    "application/vnd.databricks.v1+cell": {
     "cellMetadata": {
      "byteLimit": 2048000,
      "rowLimit": 10000
     },
     "inputWidgets": {},
     "nuid": "87a40a9f-ac4c-46cb-9a4b-bab3ebb86648",
     "showTitle": false,
     "tableResultSettingsMap": {},
     "title": ""
    }
   },
   "outputs": [],
   "source": [
    "SELECT * FROM movie_bronze.genres;"
   ]
  },
  {
   "cell_type": "code",
   "execution_count": 0,
   "metadata": {
    "application/vnd.databricks.v1+cell": {
     "cellMetadata": {},
     "inputWidgets": {},
     "nuid": "7a00e3cd-560f-4972-a60d-4de1b9961845",
     "showTitle": false,
     "tableResultSettingsMap": {},
     "title": ""
    }
   },
   "outputs": [],
   "source": []
  },
  {
   "cell_type": "markdown",
   "metadata": {
    "application/vnd.databricks.v1+cell": {
     "cellMetadata": {},
     "inputWidgets": {},
     "nuid": "c8f68093-7552-4466-9594-7de5a7adacbf",
     "showTitle": false,
     "tableResultSettingsMap": {},
     "title": ""
    }
   },
   "source": [
    "### Crear tablas para archivos JSON"
   ]
  },
  {
   "cell_type": "markdown",
   "metadata": {
    "application/vnd.databricks.v1+cell": {
     "cellMetadata": {},
     "inputWidgets": {},
     "nuid": "e1a2b4b0-81ac-4e93-b2db-90e6121d694d",
     "showTitle": false,
     "tableResultSettingsMap": {},
     "title": ""
    }
   },
   "source": [
    "#### Crear la tabla \"countries\"\n",
    "- JSON de una sola línea\n",
    "- Estructura Simple"
   ]
  },
  {
   "cell_type": "code",
   "execution_count": 0,
   "metadata": {
    "application/vnd.databricks.v1+cell": {
     "cellMetadata": {
      "byteLimit": 2048000,
      "rowLimit": 10000
     },
     "inputWidgets": {},
     "nuid": "ad38345e-edaf-4c4b-9997-b59e25f574ce",
     "showTitle": false,
     "tableResultSettingsMap": {},
     "title": ""
    }
   },
   "outputs": [],
   "source": [
    "DROP TABLE IF EXISTS movie_bronze.countries;\n",
    "CREATE TABLE IF NOT EXISTS movie_bronze.countries(\n",
    "  countryId INT,\n",
    "  countryIsoCode STRING,\n",
    "  countryName STRING\n",
    ")\n",
    "USING JSON\n",
    "OPTIONS(path \"/mnt/moviehistory0001/bronze/country.json\")"
   ]
  },
  {
   "cell_type": "code",
   "execution_count": 0,
   "metadata": {
    "application/vnd.databricks.v1+cell": {
     "cellMetadata": {
      "byteLimit": 2048000,
      "rowLimit": 10000
     },
     "inputWidgets": {},
     "nuid": "6d471bec-f5ad-475d-9bce-87760a7f1bbe",
     "showTitle": false,
     "tableResultSettingsMap": {},
     "title": ""
    }
   },
   "outputs": [],
   "source": [
    "SELECT * FROM movie_bronze.countries;"
   ]
  },
  {
   "cell_type": "markdown",
   "metadata": {
    "application/vnd.databricks.v1+cell": {
     "cellMetadata": {},
     "inputWidgets": {},
     "nuid": "6fcc9cca-8bfe-45f6-ae61-ca38d792e0a7",
     "showTitle": false,
     "tableResultSettingsMap": {},
     "title": ""
    }
   },
   "source": [
    "### Crear la tabla \"persons\"\n",
    "- JSON de una sola línea\n",
    "- Estructura Compleja"
   ]
  },
  {
   "cell_type": "code",
   "execution_count": 0,
   "metadata": {
    "application/vnd.databricks.v1+cell": {
     "cellMetadata": {
      "byteLimit": 2048000,
      "rowLimit": 10000
     },
     "inputWidgets": {},
     "nuid": "89c5d6dc-0cd2-4063-872c-e4aeb684336e",
     "showTitle": false,
     "tableResultSettingsMap": {},
     "title": ""
    }
   },
   "outputs": [],
   "source": [
    "DROP TABLE IF EXISTS movie_bronze.persons;\n",
    "CREATE TABLE IF NOT EXISTS movie_bronze.persons(\n",
    "  personId INT,\n",
    "  personName STRUCT<forename: STRING, surname: STRING>\n",
    ")\n",
    "USING JSON\n",
    "OPTIONS(path \"/mnt/moviehistory0001/bronze/person.json\")"
   ]
  },
  {
   "cell_type": "code",
   "execution_count": 0,
   "metadata": {
    "application/vnd.databricks.v1+cell": {
     "cellMetadata": {
      "byteLimit": 2048000,
      "rowLimit": 10000
     },
     "inputWidgets": {},
     "nuid": "fcd4e8fd-ee4c-472d-9b9e-c1c8f17a5102",
     "showTitle": false,
     "tableResultSettingsMap": {},
     "title": ""
    }
   },
   "outputs": [],
   "source": [
    "SELECT * FROM movie_bronze.persons;"
   ]
  },
  {
   "cell_type": "markdown",
   "metadata": {
    "application/vnd.databricks.v1+cell": {
     "cellMetadata": {},
     "inputWidgets": {},
     "nuid": "36a4c867-f6fc-4d5c-9b01-81635ee8b379",
     "showTitle": false,
     "tableResultSettingsMap": {},
     "title": ""
    }
   },
   "source": [
    "### Crear la tabla \"movies_genres\"\n",
    "- JSON de una sola línea\n",
    "- Estructura Simple"
   ]
  },
  {
   "cell_type": "code",
   "execution_count": 0,
   "metadata": {
    "application/vnd.databricks.v1+cell": {
     "cellMetadata": {
      "byteLimit": 2048000,
      "rowLimit": 10000
     },
     "inputWidgets": {},
     "nuid": "d4e09fce-5dd2-43a7-a981-f90a083f73f3",
     "showTitle": false,
     "tableResultSettingsMap": {},
     "title": ""
    }
   },
   "outputs": [],
   "source": [
    "DROP TABLE IF EXISTS movie_bronze.movies_genres;\n",
    "CREATE TABLE IF NOT EXISTS movie_bronze.movies_genres(\n",
    "  movieId INT,\n",
    "  genreId INT\n",
    ")\n",
    "USING JSON\n",
    "OPTIONS(path \"/mnt/moviehistory0001/bronze/movie_genre.json\")"
   ]
  },
  {
   "cell_type": "code",
   "execution_count": 0,
   "metadata": {
    "application/vnd.databricks.v1+cell": {
     "cellMetadata": {
      "byteLimit": 2048000,
      "rowLimit": 10000
     },
     "inputWidgets": {},
     "nuid": "c9de7383-0882-4329-8aa6-ec92e0ca8ff8",
     "showTitle": false,
     "tableResultSettingsMap": {},
     "title": ""
    }
   },
   "outputs": [],
   "source": [
    "SELECT * FROM movie_bronze.movies_genres;"
   ]
  },
  {
   "cell_type": "markdown",
   "metadata": {
    "application/vnd.databricks.v1+cell": {
     "cellMetadata": {},
     "inputWidgets": {},
     "nuid": "9b97b0b3-b050-41c4-bdbe-3ad1af576f7e",
     "showTitle": false,
     "tableResultSettingsMap": {},
     "title": ""
    }
   },
   "source": [
    "### Crear la tabla \"movies_cats\"\n",
    "- JSON Multilínea\n",
    "- Estructura Simple"
   ]
  },
  {
   "cell_type": "code",
   "execution_count": 0,
   "metadata": {
    "application/vnd.databricks.v1+cell": {
     "cellMetadata": {
      "byteLimit": 2048000,
      "rowLimit": 10000
     },
     "inputWidgets": {},
     "nuid": "764a2a76-de58-4310-99f2-1a5c37e498bb",
     "showTitle": false,
     "tableResultSettingsMap": {},
     "title": ""
    }
   },
   "outputs": [],
   "source": [
    "DROP TABLE IF EXISTS movie_bronze.movies_cats;\n",
    "CREATE TABLE IF NOT EXISTS movie_bronze.movies_cats(\n",
    "  movieId INT,\n",
    "  personId INT,\n",
    "  characterName STRING,\n",
    "  genderId STRING,\n",
    "  castOrder INT\n",
    ")\n",
    "USING JSON\n",
    "OPTIONS(path \"/mnt/moviehistory0001/bronze/movie_cast.json\", multiLine true)"
   ]
  },
  {
   "cell_type": "code",
   "execution_count": 0,
   "metadata": {
    "application/vnd.databricks.v1+cell": {
     "cellMetadata": {
      "byteLimit": 2048000,
      "rowLimit": 10000
     },
     "inputWidgets": {},
     "nuid": "809b8b15-33aa-4309-a3f7-2ee1f584bdc2",
     "showTitle": false,
     "tableResultSettingsMap": {},
     "title": ""
    }
   },
   "outputs": [],
   "source": [
    "SELECT * FROM movie_bronze.movies_cats;"
   ]
  },
  {
   "cell_type": "markdown",
   "metadata": {
    "application/vnd.databricks.v1+cell": {
     "cellMetadata": {},
     "inputWidgets": {},
     "nuid": "fd41eedf-48f0-434b-aefe-ea425671558f",
     "showTitle": false,
     "tableResultSettingsMap": {},
     "title": ""
    }
   },
   "source": [
    "### Crear la tabla \"languages_roles\"\n",
    "- JSON Multilínea\n",
    "- Estructura Simple"
   ]
  },
  {
   "cell_type": "code",
   "execution_count": 0,
   "metadata": {
    "application/vnd.databricks.v1+cell": {
     "cellMetadata": {
      "byteLimit": 2048000,
      "rowLimit": 10000
     },
     "inputWidgets": {},
     "nuid": "30ce4d16-7153-415d-b8fa-383f39110462",
     "showTitle": false,
     "tableResultSettingsMap": {},
     "title": ""
    }
   },
   "outputs": [],
   "source": [
    "DROP TABLE IF EXISTS movie_bronze.languages_roles;\n",
    "CREATE TABLE IF NOT EXISTS movie_bronze.languages_roles(\n",
    "  roleId INT,\n",
    "  languageRole STRING\n",
    ")\n",
    "USING JSON\n",
    "OPTIONS(path \"/mnt/moviehistory0001/bronze/language_role.json\", multiLine true)"
   ]
  },
  {
   "cell_type": "code",
   "execution_count": 0,
   "metadata": {
    "application/vnd.databricks.v1+cell": {
     "cellMetadata": {
      "byteLimit": 2048000,
      "rowLimit": 10000
     },
     "inputWidgets": {},
     "nuid": "397bfae8-3e94-45c7-ad19-9c56c5f0d1ff",
     "showTitle": false,
     "tableResultSettingsMap": {
      "0": {
       "dataGridStateBlob": "{\"version\":1,\"tableState\":{\"columnPinning\":{\"left\":[\"#row_number#\"],\"right\":[]},\"columnSizing\":{},\"columnVisibility\":{}},\"settings\":{\"columns\":{}},\"syncTimestamp\":1759805261462}",
       "filterBlob": null,
       "queryPlanFiltersBlob": null,
       "tableResultIndex": 0
      }
     },
     "title": ""
    }
   },
   "outputs": [],
   "source": [
    "SELECT * FROM movie_bronze.languages_roles;"
   ]
  },
  {
   "cell_type": "markdown",
   "metadata": {
    "application/vnd.databricks.v1+cell": {
     "cellMetadata": {},
     "inputWidgets": {},
     "nuid": "0bdb4884-a002-470c-9514-5a392fc1ac39",
     "showTitle": false,
     "tableResultSettingsMap": {},
     "title": ""
    }
   },
   "source": [
    "###Crear tablas para Lista de Archivos (CSVs y JSONs)"
   ]
  },
  {
   "cell_type": "markdown",
   "metadata": {
    "application/vnd.databricks.v1+cell": {
     "cellMetadata": {},
     "inputWidgets": {},
     "nuid": "b8641e08-bdb3-4e0d-84d1-3fecdb040edf",
     "showTitle": false,
     "tableResultSettingsMap": {},
     "title": ""
    }
   },
   "source": [
    "#### Crear la tabla \"productions_companies\"\n",
    "- Archivo CSV\n",
    "- Multiples Archivos"
   ]
  },
  {
   "cell_type": "code",
   "execution_count": 0,
   "metadata": {
    "application/vnd.databricks.v1+cell": {
     "cellMetadata": {
      "byteLimit": 2048000,
      "rowLimit": 10000
     },
     "inputWidgets": {},
     "nuid": "aefff6b8-bd3d-467c-bc39-611e686d7349",
     "showTitle": false,
     "tableResultSettingsMap": {},
     "title": ""
    }
   },
   "outputs": [],
   "source": [
    "DROP TABLE IF EXISTS movie_bronze.productions_companies;\n",
    "CREATE TABLE IF NOT EXISTS movie_bronze.productions_companies(\n",
    "  companyId INT,\n",
    "  companyName STRING\n",
    ")\n",
    "USING CSV\n",
    "OPTIONS(path \"/mnt/moviehistory0001/bronze/production_company\")"
   ]
  },
  {
   "cell_type": "code",
   "execution_count": 0,
   "metadata": {
    "application/vnd.databricks.v1+cell": {
     "cellMetadata": {
      "byteLimit": 2048000,
      "rowLimit": 10000
     },
     "inputWidgets": {},
     "nuid": "26ec4cce-3b30-48e9-ba0e-10fbf19bba43",
     "showTitle": false,
     "tableResultSettingsMap": {},
     "title": ""
    }
   },
   "outputs": [],
   "source": [
    "SELECT * FROM movie_bronze.productions_companies;"
   ]
  },
  {
   "cell_type": "markdown",
   "metadata": {
    "application/vnd.databricks.v1+cell": {
     "cellMetadata": {},
     "inputWidgets": {},
     "nuid": "20489785-c04e-45df-a03a-d63ea74ee08b",
     "showTitle": false,
     "tableResultSettingsMap": {},
     "title": ""
    }
   },
   "source": [
    "#### Crear la tabla \"movies_companies\"\n",
    "- Archivo CSV\n",
    "- Múltiples Archivos"
   ]
  },
  {
   "cell_type": "code",
   "execution_count": 0,
   "metadata": {
    "application/vnd.databricks.v1+cell": {
     "cellMetadata": {
      "byteLimit": 2048000,
      "rowLimit": 10000
     },
     "inputWidgets": {},
     "nuid": "082537ad-d813-40ac-9cf9-414593836375",
     "showTitle": false,
     "tableResultSettingsMap": {},
     "title": ""
    }
   },
   "outputs": [],
   "source": [
    "DROP TABLE IF EXISTS movie_bronze.movies_companies;\n",
    "CREATE TABLE IF NOT EXISTS movie_bronze.movies_companies(\n",
    "  movieId INT,\n",
    "  companyId INT\n",
    ")\n",
    "USING CSV\n",
    "OPTIONS(path \"/mnt/moviehistory0001/bronze/movie_company\")"
   ]
  },
  {
   "cell_type": "code",
   "execution_count": 0,
   "metadata": {
    "application/vnd.databricks.v1+cell": {
     "cellMetadata": {
      "byteLimit": 2048000,
      "rowLimit": 10000
     },
     "inputWidgets": {},
     "nuid": "ab36683b-1f90-4cd9-9ca1-1c5a6bae8ef9",
     "showTitle": false,
     "tableResultSettingsMap": {},
     "title": ""
    }
   },
   "outputs": [],
   "source": [
    "SELECT * FROM movie_bronze.movies_companies;"
   ]
  },
  {
   "cell_type": "markdown",
   "metadata": {
    "application/vnd.databricks.v1+cell": {
     "cellMetadata": {},
     "inputWidgets": {},
     "nuid": "24dfcf74-f862-42c3-8430-33af4f1b4e13",
     "showTitle": false,
     "tableResultSettingsMap": {},
     "title": ""
    }
   },
   "source": [
    "### Crear la tabla \"movies_languages\"\n",
    "- Archivo JSON Multilínea\n",
    "- Múltiples Archivos"
   ]
  },
  {
   "cell_type": "code",
   "execution_count": 0,
   "metadata": {
    "application/vnd.databricks.v1+cell": {
     "cellMetadata": {
      "byteLimit": 2048000,
      "rowLimit": 10000
     },
     "inputWidgets": {},
     "nuid": "c76e01dc-b9b0-4ada-b00a-19f729477c3c",
     "showTitle": false,
     "tableResultSettingsMap": {},
     "title": ""
    }
   },
   "outputs": [],
   "source": [
    "DROP TABLE IF EXISTS movie_bronze.movies_languages;\n",
    "CREATE TABLE IF NOT EXISTS movie_bronze.movies_languages(\n",
    "  movieId INT,\n",
    "  languageId INT,\n",
    "  languageRoleId INT\n",
    ")\n",
    "USING JSON\n",
    "OPTIONS (path \"/mnt/moviehistory0001/bronze/movie_language\", multiLine true)"
   ]
  },
  {
   "cell_type": "code",
   "execution_count": 0,
   "metadata": {
    "application/vnd.databricks.v1+cell": {
     "cellMetadata": {
      "byteLimit": 2048000,
      "rowLimit": 10000
     },
     "inputWidgets": {},
     "nuid": "d764bdb2-91d1-470f-a310-38b7ab2f8779",
     "showTitle": false,
     "tableResultSettingsMap": {},
     "title": ""
    }
   },
   "outputs": [],
   "source": [
    "SELECT * FROM movie_bronze.movies_languages;"
   ]
  },
  {
   "cell_type": "markdown",
   "metadata": {
    "application/vnd.databricks.v1+cell": {
     "cellMetadata": {},
     "inputWidgets": {},
     "nuid": "652d78f7-5077-4686-90bf-4fbb0cc5c224",
     "showTitle": false,
     "tableResultSettingsMap": {},
     "title": ""
    }
   },
   "source": [
    "#### Crear la tabla \"productions_countries\"\n",
    "- Archivo JSON Multilínea\n",
    "- Múltiples Archivos"
   ]
  },
  {
   "cell_type": "code",
   "execution_count": 0,
   "metadata": {
    "application/vnd.databricks.v1+cell": {
     "cellMetadata": {
      "byteLimit": 2048000,
      "rowLimit": 10000
     },
     "inputWidgets": {},
     "nuid": "1f5f28c0-182a-4ba8-9bf5-dd2a50cbbe72",
     "showTitle": false,
     "tableResultSettingsMap": {},
     "title": ""
    }
   },
   "outputs": [],
   "source": [
    "DROP TABLE IF EXISTS movie_bronze.productions_countries;\n",
    "CREATE TABLE IF NOT EXISTS movie_bronze.productions_countries(\n",
    "  movieId INT,\n",
    "  countryId INT\n",
    ")\n",
    "USING JSON\n",
    "OPTIONS (path \"/mnt/moviehistory0001/bronze/production_country\", multiLine true)"
   ]
  },
  {
   "cell_type": "code",
   "execution_count": 0,
   "metadata": {
    "application/vnd.databricks.v1+cell": {
     "cellMetadata": {
      "byteLimit": 2048000,
      "rowLimit": 10000
     },
     "inputWidgets": {},
     "nuid": "a262a30f-d6f7-471f-b519-6a8e6a67e6dc",
     "showTitle": false,
     "tableResultSettingsMap": {},
     "title": ""
    }
   },
   "outputs": [],
   "source": [
    "SELECT * FROM movie_bronze.productions_countries;"
   ]
  }
 ],
 "metadata": {
  "application/vnd.databricks.v1+notebook": {
   "computePreferences": null,
   "dashboards": [],
   "environmentMetadata": {
    "base_environment": "",
    "environment_version": "3"
   },
   "inputWidgetPreferences": null,
   "language": "sql",
   "notebookMetadata": {
    "pythonIndentUnit": 4
   },
   "notebookName": "01.create_bronze_table",
   "widgets": {}
  },
  "language_info": {
   "name": "sql"
  }
 },
 "nbformat": 4,
 "nbformat_minor": 0
}
