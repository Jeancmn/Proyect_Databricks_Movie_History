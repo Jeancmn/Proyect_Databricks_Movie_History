{
 "cells": [
  {
   "cell_type": "code",
   "execution_count": 0,
   "metadata": {
    "application/vnd.databricks.v1+cell": {
     "cellMetadata": {
      "byteLimit": 2048000,
      "rowLimit": 10000
     },
     "inputWidgets": {},
     "nuid": "858ffd54-11e1-43e1-8537-db0139aef615",
     "showTitle": false,
     "tableResultSettingsMap": {},
     "title": ""
    }
   },
   "outputs": [],
   "source": [
    "USE movie_gold;"
   ]
  },
  {
   "cell_type": "code",
   "execution_count": 0,
   "metadata": {
    "application/vnd.databricks.v1+cell": {
     "cellMetadata": {
      "byteLimit": 2048000,
      "rowLimit": 10000
     },
     "inputWidgets": {},
     "nuid": "e54e308f-c920-45d1-ae26-b96d08fdb72e",
     "showTitle": false,
     "tableResultSettingsMap": {},
     "title": ""
    }
   },
   "outputs": [],
   "source": [
    "SELECT * FROM results_movie;"
   ]
  },
  {
   "cell_type": "code",
   "execution_count": 0,
   "metadata": {
    "application/vnd.databricks.v1+cell": {
     "cellMetadata": {
      "byteLimit": 2048000,
      "rowLimit": 10000
     },
     "inputWidgets": {},
     "nuid": "a2460856-f1fb-4ad3-ac7e-ed8fe000d851",
     "showTitle": false,
     "tableResultSettingsMap": {},
     "title": ""
    }
   },
   "outputs": [],
   "source": [
    "SELECT country_name,\n",
    "  COUNT(country_name) AS total_movie,\n",
    "  SUM(budget) AS total_budget,\n",
    "  SUM(revenue) AS total_revenue\n",
    "FROM results_movie\n",
    "GROUP BY country_name\n",
    "ORDER BY total_revenue DESC;"
   ]
  },
  {
   "cell_type": "code",
   "execution_count": 0,
   "metadata": {
    "application/vnd.databricks.v1+cell": {
     "cellMetadata": {
      "byteLimit": 2048000,
      "rowLimit": 10000
     },
     "inputWidgets": {},
     "nuid": "742ca729-66f4-4a5d-91de-849b04853c5a",
     "showTitle": false,
     "tableResultSettingsMap": {},
     "title": ""
    }
   },
   "outputs": [],
   "source": [
    "SELECT country_name,\n",
    "  COUNT(country_name) AS total_movie,\n",
    "  SUM(budget) AS total_budget,\n",
    "  CAST(AVG(budget) AS DECIMAL(18,2)) AS avg_budget,\n",
    "  SUM(revenue) AS total_revenue,\n",
    "  CAST(AVG(revenue) AS DECIMAL(18,2)) AS avg_revenue\n",
    "FROM results_movie\n",
    "GROUP BY country_name\n",
    "ORDER BY total_revenue DESC;"
   ]
  },
  {
   "cell_type": "code",
   "execution_count": 0,
   "metadata": {
    "application/vnd.databricks.v1+cell": {
     "cellMetadata": {
      "byteLimit": 2048000,
      "rowLimit": 10000
     },
     "inputWidgets": {},
     "nuid": "ad92e1bb-b7b2-4162-927f-caf269fc2afc",
     "showTitle": false,
     "tableResultSettingsMap": {},
     "title": ""
    }
   },
   "outputs": [],
   "source": [
    "SELECT country_name,\n",
    "  COUNT(country_name) AS total_movie,\n",
    "  SUM(budget) AS total_budget,\n",
    "  CAST(AVG(budget) AS DECIMAL(18,2)) AS avg_budget,\n",
    "  SUM(revenue) AS total_revenue,\n",
    "  CAST(AVG(revenue) AS DECIMAL(18,2)) AS avg_revenue\n",
    "FROM results_movie\n",
    "WHERE year_release_date BETWEEN 2010 AND 2015\n",
    "GROUP BY country_name\n",
    "ORDER BY total_revenue DESC;"
   ]
  }
 ],
 "metadata": {
  "application/vnd.databricks.v1+notebook": {
   "computePreferences": null,
   "dashboards": [],
   "environmentMetadata": {
    "base_environment": "",
    "environment_version": "3"
   },
   "inputWidgetPreferences": null,
   "language": "sql",
   "notebookMetadata": {
    "pythonIndentUnit": 4
   },
   "notebookName": "01.budget_revenue_country",
   "widgets": {}
  },
  "language_info": {
   "name": "sql"
  }
 },
 "nbformat": 4,
 "nbformat_minor": 0
}
