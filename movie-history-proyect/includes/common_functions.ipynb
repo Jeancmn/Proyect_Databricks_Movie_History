{
 "cells": [
  {
   "cell_type": "code",
   "execution_count": 0,
   "metadata": {
    "application/vnd.databricks.v1+cell": {
     "cellMetadata": {},
     "inputWidgets": {},
     "nuid": "f2ad690e-1313-420d-95c2-7ab834aa34df",
     "showTitle": false,
     "tableResultSettingsMap": {},
     "title": ""
    }
   },
   "outputs": [],
   "source": [
    "from pyspark.sql.functions import current_timestamp\n",
    "\n",
    "def add_ingestion_date(input_df):\n",
    "    output_df = input_df.withColumn('ingestion_date', current_timestamp())\n",
    "    return output_df"
   ]
  },
  {
   "cell_type": "code",
   "execution_count": 0,
   "metadata": {
    "application/vnd.databricks.v1+cell": {
     "cellMetadata": {},
     "inputWidgets": {},
     "nuid": "15eac134-9790-4923-bb11-48058ad93499",
     "showTitle": false,
     "tableResultSettingsMap": {},
     "title": ""
    }
   },
   "outputs": [],
   "source": [
    "def overwrite_partition(input_df, db_name, table_name, partition_column):\n",
    "    for item_list in input_df.select(f'{partition_column}').distinct().collect():\n",
    "        if (spark._jsparkSession.catalog().tableExists(f\"{db_name}.{table_name}\")):\n",
    "                spark.sql(f'ALTER TABLE {db_name}.{table_name} DROP IF EXISTS PARTITION ({partition_column} = \"{item_list[partition_column]}\")')"
   ]
  },
  {
   "cell_type": "code",
   "execution_count": 0,
   "metadata": {
    "application/vnd.databricks.v1+cell": {
     "cellMetadata": {},
     "inputWidgets": {},
     "nuid": "04dc5f76-7edf-4cd1-95b6-2bf691d25186",
     "showTitle": false,
     "tableResultSettingsMap": {},
     "title": ""
    }
   },
   "outputs": [],
   "source": [
    "def merge_delta_lake(input_df, db_name, table_name, folder_path, merge_condition, partition_column):\n",
    "\n",
    "  from delta.tables import DeltaTable\n",
    "\n",
    "  if spark._jsparkSession.catalog().tableExists(f\"{db_name}.{table_name}\"):\n",
    "    deltaTable = DeltaTable.forPath(spark, f'{folder_path}/{table_name}')\n",
    "\n",
    "    deltaTable.alias('tgt') \\\n",
    "      .merge(\n",
    "        input_df.alias('src'),\n",
    "        merge_condition\n",
    "      ) \\\n",
    "      .whenMatchedUpdateAll() \\\n",
    "      .whenNotMatchedInsertAll() \\\n",
    "      .execute()\n",
    "  else:\n",
    "    input_df.write.mode(\"overwrite\").partitionBy(partition_column).format(\"delta\").saveAsTable(f\"{db_name}.{table_name}\")"
   ]
  }
 ],
 "metadata": {
  "application/vnd.databricks.v1+notebook": {
   "computePreferences": null,
   "dashboards": [],
   "environmentMetadata": {
    "base_environment": "",
    "environment_version": "3"
   },
   "inputWidgetPreferences": null,
   "language": "python",
   "notebookMetadata": {
    "pythonIndentUnit": 4
   },
   "notebookName": "common_functions",
   "widgets": {}
  },
  "language_info": {
   "name": "python"
  }
 },
 "nbformat": 4,
 "nbformat_minor": 0
}
