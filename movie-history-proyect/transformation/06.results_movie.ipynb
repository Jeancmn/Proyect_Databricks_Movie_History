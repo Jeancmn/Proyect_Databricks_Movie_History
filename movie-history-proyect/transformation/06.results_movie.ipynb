{
 "cells": [
  {
   "cell_type": "markdown",
   "metadata": {
    "application/vnd.databricks.v1+cell": {
     "cellMetadata": {
      "byteLimit": 2048000,
      "rowLimit": 10000
     },
     "inputWidgets": {},
     "nuid": "4618d7db-69f9-494f-9efd-14c7488782e1",
     "showTitle": false,
     "tableResultSettingsMap": {},
     "title": ""
    }
   },
   "source": [
    "### Crear la Tabla results_movie en la capa \"gold\""
   ]
  },
  {
   "cell_type": "code",
   "execution_count": 0,
   "metadata": {
    "application/vnd.databricks.v1+cell": {
     "cellMetadata": {
      "byteLimit": 2048000,
      "rowLimit": 10000
     },
     "inputWidgets": {},
     "nuid": "43d512a2-ce76-445b-bbef-a740d93aeee7",
     "showTitle": false,
     "tableResultSettingsMap": {},
     "title": ""
    }
   },
   "outputs": [],
   "source": [
    "dbutils.widgets.text(\"p_file_date\", \"2024-12-30\")\n",
    "v_file_date = dbutils.widgets.get(\"p_file_date\")"
   ]
  },
  {
   "cell_type": "code",
   "execution_count": 0,
   "metadata": {
    "application/vnd.databricks.v1+cell": {
     "cellMetadata": {
      "byteLimit": 2048000,
      "rowLimit": 10000
     },
     "inputWidgets": {},
     "nuid": "6be989f5-ff47-4e0b-aeae-d1fc605a83b4",
     "showTitle": false,
     "tableResultSettingsMap": {},
     "title": ""
    }
   },
   "outputs": [],
   "source": [
    "spark.sql(\"\"\"\n",
    "          CREATE TABLE IF NOT EXISTS movie_gold.results_movie(\n",
    "              year_release_date INT,\n",
    "              country_name STRING,\n",
    "              company_name STRING,\n",
    "              budget FLOAT,\n",
    "              revenue FLOAT,\n",
    "              movie_id INT,\n",
    "              country_id INT,\n",
    "              company_id INT,\n",
    "              created_date DATE,\n",
    "              updated_date DATE\n",
    "          )\n",
    "          USING DELTA\n",
    "          \"\"\"\n",
    ")"
   ]
  },
  {
   "cell_type": "code",
   "execution_count": 0,
   "metadata": {
    "application/vnd.databricks.v1+cell": {
     "cellMetadata": {
      "byteLimit": 2048000,
      "rowLimit": 10000
     },
     "inputWidgets": {},
     "nuid": "5cb31b6c-0e3e-4f50-ba5b-b273494f5f38",
     "showTitle": false,
     "tableResultSettingsMap": {},
     "title": ""
    }
   },
   "outputs": [],
   "source": [
    "spark.sql(f\"\"\"\n",
    "            CREATE OR REPLACE TEMP VIEW v_results_movie\n",
    "            AS\n",
    "            SELECT M.year_release_date, C.country_name, PCO.company_name,\n",
    "                    M.budget, M.revenue, M.movie_id, C.country_id, PCO.company_id\n",
    "            FROM movie_silver.movies M\n",
    "            INNER JOIN movie_silver.productions_countries PC ON M.movie_id = PC.movie_id\n",
    "            INNER JOIN movie_silver.countries C ON C.country_id = PC.country_id\n",
    "            INNER JOIN movie_silver.movies_companies MC ON M.movie_id = MC.movie_id\n",
    "            INNER JOIN movie_silver.productions_companies PCO ON MC.company_id = PCO.company_id\n",
    "            WHERE M.file_date = '{v_file_date}'\n",
    "\"\"\")"
   ]
  },
  {
   "cell_type": "code",
   "execution_count": 0,
   "metadata": {
    "application/vnd.databricks.v1+cell": {
     "cellMetadata": {
      "byteLimit": 2048000,
      "implicitDf": true,
      "rowLimit": 10000
     },
     "inputWidgets": {},
     "nuid": "321ca2e1-82cc-4f98-8438-d1f7ff1e8116",
     "showTitle": false,
     "tableResultSettingsMap": {},
     "title": ""
    }
   },
   "outputs": [],
   "source": [
    "spark.sql(f\"\"\"\n",
    "            MERGE INTO movie_gold.results_movie tgt\n",
    "            USING v_results_movie src\n",
    "            ON (tgt.movie_id = src.movie_id AND tgt.country_id = src.country_id AND tgt.company_id = src.company_id)\n",
    "            WHEN MATCHED THEN\n",
    "            UPDATE SET\n",
    "                tgt.year_release_date = src.year_release_date,\n",
    "                tgt.country_name = src.country_name,\n",
    "                tgt.company_name = src.company_name,\n",
    "                tgt.budget = src.budget,\n",
    "                tgt.revenue = src.revenue,\n",
    "                tgt.updated_date = current_timestamp\n",
    "            WHEN NOT MATCHED THEN \n",
    "            INSERT (year_release_date, country_name, company_name, budget, revenue, movie_id, country_id,       company_id, created_date)\n",
    "            VALUES (year_release_date, country_name, company_name, budget, revenue, movie_id, country_id, company_id, current_timestamp)         \n",
    "\"\"\")\n"
   ]
  },
  {
   "cell_type": "code",
   "execution_count": 0,
   "metadata": {
    "application/vnd.databricks.v1+cell": {
     "cellMetadata": {
      "byteLimit": 2048000,
      "implicitDf": true,
      "rowLimit": 10000
     },
     "inputWidgets": {},
     "nuid": "b797e580-956a-4aec-9d0e-4fa4ed09c846",
     "showTitle": false,
     "tableResultSettingsMap": {},
     "title": ""
    }
   },
   "outputs": [],
   "source": [
    "%sql\n",
    "SELECT COUNT(1) FROM v_results_movie;"
   ]
  },
  {
   "cell_type": "code",
   "execution_count": 0,
   "metadata": {
    "application/vnd.databricks.v1+cell": {
     "cellMetadata": {
      "byteLimit": 2048000,
      "implicitDf": true,
      "rowLimit": 10000
     },
     "inputWidgets": {},
     "nuid": "09207644-6112-4230-9059-e214e4052801",
     "showTitle": false,
     "tableResultSettingsMap": {},
     "title": ""
    }
   },
   "outputs": [],
   "source": [
    "%sql\n",
    "SELECT COUNT(1) FROM movie_gold.results_movie;"
   ]
  },
  {
   "cell_type": "code",
   "execution_count": 0,
   "metadata": {
    "application/vnd.databricks.v1+cell": {
     "cellMetadata": {
      "byteLimit": 2048000,
      "implicitDf": true,
      "rowLimit": 10000
     },
     "inputWidgets": {},
     "nuid": "1368b414-3108-4cf3-8ffd-aff12af698eb",
     "showTitle": false,
     "tableResultSettingsMap": {},
     "title": ""
    }
   },
   "outputs": [],
   "source": [
    "%sql\n",
    "SHOW DATABASES;"
   ]
  }
 ],
 "metadata": {
  "application/vnd.databricks.v1+notebook": {
   "computePreferences": null,
   "dashboards": [],
   "environmentMetadata": {
    "base_environment": "",
    "environment_version": "3"
   },
   "inputWidgetPreferences": null,
   "language": "python",
   "notebookMetadata": {
    "mostRecentlyExecutedCommandWithImplicitDF": {
     "commandId": 5278259870784931,
     "dataframes": [
      "_sqldf"
     ]
    },
    "pythonIndentUnit": 4
   },
   "notebookName": "06.results_movie",
   "widgets": {
    "p_file_date": {
     "currentValue": "2024-12-16",
     "nuid": "91179f51-6f31-4e6f-80b1-427aa1710e99",
     "typedWidgetInfo": {
      "autoCreated": false,
      "defaultValue": "2024-12-30",
      "label": null,
      "name": "p_file_date",
      "options": {
       "widgetDisplayType": "Text",
       "validationRegex": null
      },
      "parameterDataType": "String"
     },
     "widgetInfo": {
      "widgetType": "text",
      "defaultValue": "2024-12-30",
      "label": null,
      "name": "p_file_date",
      "options": {
       "widgetType": "text",
       "autoCreated": null,
       "validationRegex": null
      }
     }
    }
   }
  },
  "language_info": {
   "name": "python"
  }
 },
 "nbformat": 4,
 "nbformat_minor": 0
}
