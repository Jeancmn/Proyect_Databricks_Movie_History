{
 "cells": [
  {
   "cell_type": "code",
   "execution_count": 0,
   "metadata": {
    "application/vnd.databricks.v1+cell": {
     "cellMetadata": {
      "byteLimit": 2048000,
      "rowLimit": 10000
     },
     "inputWidgets": {},
     "nuid": "205881e9-4069-48b9-8dbf-5f87f824697c",
     "showTitle": false,
     "tableResultSettingsMap": {},
     "title": ""
    }
   },
   "outputs": [],
   "source": [
    "# Databricks notebook source\n",
    "from datetime import datetime\n",
    "# Lista de notebooks a ejecutar (en orden)\n",
    "notebooks = [\n",
    "    \"./01.results_movies_genre_language\",\n",
    "    \"./02.results_country_prod_company\",\n",
    "    \"./03.results_group_movie_genre\",\n",
    "    \"./04.results_group_movie_country\"\n",
    "]\n",
    "\n",
    "# Ejecutar notebooks uno a uno\n",
    "for nb in notebooks:\n",
    "    print(f\"----- Ejecutando: {nb} -----\")\n",
    "    start = datetime.now()\n",
    "    result = dbutils.notebook.run(nb, timeout_seconds=0)\n",
    "    print(f\"Resultado de {nb}: {result}\")\n",
    "    print(f\"Duración: {datetime.now() - start}\")\n",
    "    print(\"------------------------------------\\n\")\n",
    "\n",
    "print(\"Ejecución completa de todos los notebooks.\")"
   ]
  }
 ],
 "metadata": {
  "application/vnd.databricks.v1+notebook": {
   "computePreferences": null,
   "dashboards": [],
   "environmentMetadata": {
    "base_environment": "",
    "environment_version": "3"
   },
   "inputWidgetPreferences": null,
   "language": "python",
   "notebookMetadata": {
    "mostRecentlyExecutedCommandWithImplicitDF": {
     "commandId": -1,
     "dataframes": [
      "_sqldf"
     ]
    },
    "pythonIndentUnit": 4
   },
   "notebookName": "00.run_transformation_all_notebooks",
   "widgets": {}
  },
  "language_info": {
   "name": "python"
  }
 },
 "nbformat": 4,
 "nbformat_minor": 0
}
